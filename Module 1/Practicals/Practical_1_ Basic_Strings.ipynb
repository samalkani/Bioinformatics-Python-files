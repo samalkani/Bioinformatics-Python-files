{
 "cells": [
  {
   "cell_type": "markdown",
   "id": "cfe6456c",
   "metadata": {},
   "source": [
    "# String Basics"
   ]
  },
  {
   "cell_type": "markdown",
   "id": "2cf31b8d",
   "metadata": {},
   "source": [
    "### Defining a string"
   ]
  },
  {
   "cell_type": "code",
   "execution_count": 3,
   "id": "79baf897",
   "metadata": {},
   "outputs": [],
   "source": [
    "seq = 'ACGT'"
   ]
  },
  {
   "cell_type": "code",
   "execution_count": 4,
   "id": "f523a7be",
   "metadata": {},
   "outputs": [],
   "source": [
    "seq = \"ACGT\""
   ]
  },
  {
   "cell_type": "markdown",
   "id": "f1b2f13a",
   "metadata": {},
   "source": [
    "### Getting a character from a string"
   ]
  },
  {
   "cell_type": "code",
   "execution_count": 5,
   "id": "f17b504e",
   "metadata": {},
   "outputs": [
    {
     "data": {
      "text/plain": [
       "'C'"
      ]
     },
     "execution_count": 5,
     "metadata": {},
     "output_type": "execute_result"
    }
   ],
   "source": [
    "seq[1]"
   ]
  },
  {
   "cell_type": "markdown",
   "id": "98d1c441",
   "metadata": {},
   "source": [
    "### Length of a string"
   ]
  },
  {
   "cell_type": "code",
   "execution_count": 6,
   "id": "1ec8ad9c",
   "metadata": {},
   "outputs": [
    {
     "data": {
      "text/plain": [
       "4"
      ]
     },
     "execution_count": 6,
     "metadata": {},
     "output_type": "execute_result"
    }
   ],
   "source": [
    "len(seq)"
   ]
  },
  {
   "cell_type": "markdown",
   "id": "fe776e39",
   "metadata": {},
   "source": [
    "### Defining an empty string"
   ]
  },
  {
   "cell_type": "code",
   "execution_count": 9,
   "id": "3deb0ba3",
   "metadata": {},
   "outputs": [],
   "source": [
    "e = ''"
   ]
  },
  {
   "cell_type": "markdown",
   "id": "dd027f0c",
   "metadata": {},
   "source": [
    "### Length of an empty string"
   ]
  },
  {
   "cell_type": "code",
   "execution_count": 10,
   "id": "30a524f5",
   "metadata": {},
   "outputs": [
    {
     "data": {
      "text/plain": [
       "0"
      ]
     },
     "execution_count": 10,
     "metadata": {},
     "output_type": "execute_result"
    }
   ],
   "source": [
    "len(e)"
   ]
  },
  {
   "cell_type": "markdown",
   "id": "629d63e0",
   "metadata": {},
   "source": [
    "### Concatenating two strings"
   ]
  },
  {
   "cell_type": "code",
   "execution_count": 11,
   "id": "d49cfb12",
   "metadata": {},
   "outputs": [
    {
     "name": "stdout",
     "output_type": "stream",
     "text": [
      "CCAAGGTT\n"
     ]
    }
   ],
   "source": [
    "seq1 = 'CCAA'\n",
    "seq2 = 'GGTT'\n",
    "print(seq1 + seq2)"
   ]
  },
  {
   "cell_type": "markdown",
   "id": "5c8ca71a",
   "metadata": {},
   "source": [
    "### Concatenating strings using the join() function"
   ]
  },
  {
   "cell_type": "code",
   "execution_count": 12,
   "id": "8124c4a2",
   "metadata": {},
   "outputs": [
    {
     "name": "stdout",
     "output_type": "stream",
     "text": [
      "ACGT\n"
     ]
    }
   ],
   "source": [
    "seqs = ['A','C','G','T']\n",
    "print(''.join(seqs))"
   ]
  },
  {
   "cell_type": "markdown",
   "id": "76d3a20a",
   "metadata": {},
   "source": [
    "### Concatening strings with commas in-between"
   ]
  },
  {
   "cell_type": "code",
   "execution_count": 13,
   "id": "f3e6481c",
   "metadata": {},
   "outputs": [
    {
     "name": "stdout",
     "output_type": "stream",
     "text": [
      "A,C,G,T\n"
     ]
    }
   ],
   "source": [
    "seqs = ['A','C','G','T']\n",
    "print(','.join(seqs))"
   ]
  },
  {
   "cell_type": "markdown",
   "id": "51a36793",
   "metadata": {},
   "source": [
    "### Creating a random string of DNA sequences"
   ]
  },
  {
   "cell_type": "code",
   "execution_count": 18,
   "id": "94e4eb29",
   "metadata": {},
   "outputs": [
    {
     "data": {
      "text/plain": [
       "'A'"
      ]
     },
     "execution_count": 18,
     "metadata": {},
     "output_type": "execute_result"
    }
   ],
   "source": [
    "import random\n",
    "random.choice('ACGT')"
   ]
  },
  {
   "cell_type": "markdown",
   "id": "2b3a8037",
   "metadata": {},
   "source": [
    "### Creating a random string of DNA sequences in a pre-determined order (gives 'G' every time)"
   ]
  },
  {
   "cell_type": "code",
   "execution_count": 21,
   "id": "1a0318a5",
   "metadata": {},
   "outputs": [
    {
     "data": {
      "text/plain": [
       "'G'"
      ]
     },
     "execution_count": 21,
     "metadata": {},
     "output_type": "execute_result"
    }
   ],
   "source": [
    "import random\n",
    "random.seed(7)\n",
    "random.choice('ACGT')"
   ]
  },
  {
   "cell_type": "markdown",
   "id": "6fdb7905",
   "metadata": {},
   "source": [
    "### Use random.choice() to give a longer string of nucleotides ( _ is in substitute for index variable i)"
   ]
  },
  {
   "cell_type": "code",
   "execution_count": 25,
   "id": "75200704",
   "metadata": {},
   "outputs": [
    {
     "name": "stdout",
     "output_type": "stream",
     "text": [
      "CACGAAACTT\n"
     ]
    }
   ],
   "source": [
    "seq = ''\n",
    "for _ in range(10):\n",
    "    seq += random.choice('ACGT')\n",
    "print(seq)"
   ]
  },
  {
   "cell_type": "markdown",
   "id": "467a215b",
   "metadata": {},
   "source": [
    "### Giving a longer string of nucleotides using the ''.join() function"
   ]
  },
  {
   "cell_type": "code",
   "execution_count": 28,
   "id": "9df8b6ca",
   "metadata": {},
   "outputs": [
    {
     "name": "stdout",
     "output_type": "stream",
     "text": [
      "TTAAGGGTTA\n"
     ]
    }
   ],
   "source": [
    "seq = ''.join([random.choice('ACGT') for _ in range(10)])\n",
    "print(seq)"
   ]
  },
  {
   "cell_type": "markdown",
   "id": "60f01f55",
   "metadata": {},
   "source": [
    "### Getting Substrings"
   ]
  },
  {
   "cell_type": "code",
   "execution_count": 29,
   "id": "32965b8b",
   "metadata": {},
   "outputs": [
    {
     "data": {
      "text/plain": [
       "'TA'"
      ]
     },
     "execution_count": 29,
     "metadata": {},
     "output_type": "execute_result"
    }
   ],
   "source": [
    "seq[1:3]"
   ]
  },
  {
   "cell_type": "markdown",
   "id": "8da6d7b5",
   "metadata": {},
   "source": [
    "### Getting a prefix substring"
   ]
  },
  {
   "cell_type": "code",
   "execution_count": 30,
   "id": "77bf2ba5",
   "metadata": {},
   "outputs": [
    {
     "data": {
      "text/plain": [
       "'TTA'"
      ]
     },
     "execution_count": 30,
     "metadata": {},
     "output_type": "execute_result"
    }
   ],
   "source": [
    "seq[:3]"
   ]
  },
  {
   "cell_type": "markdown",
   "id": "dddc5cda",
   "metadata": {},
   "source": [
    "### Same result of prefix substring given above, by explicitly specifying the indexes"
   ]
  },
  {
   "cell_type": "code",
   "execution_count": 31,
   "id": "a84359d0",
   "metadata": {},
   "outputs": [
    {
     "data": {
      "text/plain": [
       "'TTA'"
      ]
     },
     "execution_count": 31,
     "metadata": {},
     "output_type": "execute_result"
    }
   ],
   "source": [
    "seq[0:3]"
   ]
  },
  {
   "cell_type": "markdown",
   "id": "bc80e3e2",
   "metadata": {},
   "source": [
    "### Getting a suffix substring"
   ]
  },
  {
   "cell_type": "code",
   "execution_count": 33,
   "id": "bd8b15af",
   "metadata": {},
   "outputs": [
    {
     "data": {
      "text/plain": [
       "'AGGGTTA'"
      ]
     },
     "execution_count": 33,
     "metadata": {},
     "output_type": "execute_result"
    }
   ],
   "source": [
    "seq[3:]"
   ]
  },
  {
   "cell_type": "markdown",
   "id": "e18d99c6",
   "metadata": {},
   "source": [
    "### Same result of suffix substring given above, using the len() function"
   ]
  },
  {
   "cell_type": "code",
   "execution_count": 35,
   "id": "043119f3",
   "metadata": {},
   "outputs": [
    {
     "data": {
      "text/plain": [
       "'AGGGTTA'"
      ]
     },
     "execution_count": 35,
     "metadata": {},
     "output_type": "execute_result"
    }
   ],
   "source": [
    "seq[3:len(seq)]"
   ]
  },
  {
   "cell_type": "markdown",
   "id": "e3aa3d15",
   "metadata": {},
   "source": [
    "### Using negative indexes "
   ]
  },
  {
   "cell_type": "code",
   "execution_count": 38,
   "id": "bce8d1d9",
   "metadata": {},
   "outputs": [
    {
     "data": {
      "text/plain": [
       "'A'"
      ]
     },
     "execution_count": 38,
     "metadata": {},
     "output_type": "execute_result"
    }
   ],
   "source": [
    "seq[-7]"
   ]
  },
  {
   "cell_type": "markdown",
   "id": "887429df",
   "metadata": {},
   "source": [
    "### Using negative indexes to give the last seven characters of the string (the suffix of length 7)"
   ]
  },
  {
   "cell_type": "code",
   "execution_count": 40,
   "id": "7115fa75",
   "metadata": {},
   "outputs": [
    {
     "data": {
      "text/plain": [
       "'AGGGTTA'"
      ]
     },
     "execution_count": 40,
     "metadata": {},
     "output_type": "execute_result"
    }
   ],
   "source": [
    "seq[-7:]"
   ]
  }
 ],
 "metadata": {
  "kernelspec": {
   "display_name": "Python 3 (ipykernel)",
   "language": "python",
   "name": "python3"
  },
  "language_info": {
   "codemirror_mode": {
    "name": "ipython",
    "version": 3
   },
   "file_extension": ".py",
   "mimetype": "text/x-python",
   "name": "python",
   "nbconvert_exporter": "python",
   "pygments_lexer": "ipython3",
   "version": "3.8.5"
  }
 },
 "nbformat": 4,
 "nbformat_minor": 5
}
